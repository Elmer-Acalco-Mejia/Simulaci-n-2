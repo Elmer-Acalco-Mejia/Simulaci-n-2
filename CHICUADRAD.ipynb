{
  "metadata": {
    "kernelspec": {
      "name": "python",
      "display_name": "Python (Pyodide)",
      "language": "python"
    },
    "language_info": {
      "codemirror_mode": {
        "name": "python",
        "version": 3
      },
      "file_extension": ".py",
      "mimetype": "text/x-python",
      "name": "python",
      "nbconvert_exporter": "python",
      "pygments_lexer": "ipython3",
      "version": "3.8"
    }
  },
  "nbformat_minor": 4,
  "nbformat": 4,
  "cells": [
    {
      "cell_type": "markdown",
      "source": "**5 Escriba un programa en python para realizar ChiCuadrado**",
      "metadata": {}
    },
    {
      "cell_type": "code",
      "source": "from random  import uniform\nimport numpy as np\nimport pandas as pd",
      "metadata": {
        "trusted": true
      },
      "outputs": [],
      "execution_count": 1
    },
    {
      "cell_type": "markdown",
      "source": "Solicitamos que se ingrese la cantidad de elementos a las que se someterá la prueba , el número de intervalos\ny creamos nuestros elementos usando la función \"uniform\" entre el intervalo(0,1)",
      "metadata": {}
    },
    {
      "cell_type": "code",
      "source": "n=40\nintervalos=5\nnumeros=[]\nd=1/intervalos\nfor i in range(n):\n  z=uniform(0,1)\n  numeros.append(z)\n",
      "metadata": {
        "trusted": true
      },
      "outputs": [],
      "execution_count": 4
    },
    {
      "cell_type": "markdown",
      "source": "Creamos una lista que contendrá el número de listas de acuerdo al tamaño del intervalo ; es decir l=[[],[],...intervalos]\ncon el objetivo de ir agregando los elementos generados en la lista \"numeros\" de acuerdo al intervalo en el que se encuentren ,por ejemplo \nl=[[],[],...] en la primera lista dentro de la lista se almacenará los elementos que se encuentran entre 0-0.2 , en la segunda lista se almacenará \nlos elementos que se encuentran entre 0.2-0.4 , etc.",
      "metadata": {}
    },
    {
      "cell_type": "code",
      "source": "lista3=[]\nfor i in range(intervalos):\n  lista3.append([])\n  for j in numeros:\n    if i*d<j<(i+1)*d:\n      lista3[i].append(j)",
      "metadata": {
        "trusted": true
      },
      "outputs": [],
      "execution_count": 6
    },
    {
      "cell_type": "markdown",
      "source": "Contamos la cantidad de elementos que contiene cada lista de la lista \"lista3\" , con el propósito de conocer la frecuencia observada en cada intervalo\n",
      "metadata": {}
    },
    {
      "cell_type": "code",
      "source": "cantidad=[]\nfor fila in lista3:\n  cantidad.append(len(fila))\nprint(cantidad)",
      "metadata": {
        "trusted": true
      },
      "outputs": [
        {
          "name": "stdout",
          "text": "[9, 7, 9, 7, 8]\n",
          "output_type": "stream"
        }
      ],
      "execution_count": 7
    },
    {
      "cell_type": "markdown",
      "source": "Creamos un diccionario para poder vizualizar mejor la información en una data Frame  ",
      "metadata": {}
    },
    {
      "cell_type": "code",
      "source": "esperado=n/intervalos  # Calculamos la Frecuencia Esperada \ntabla_analisis={'Frecuencia Observada O_i':cantidad,'Frecuencia Esperada E_i':[esperado for i in range(intervalos)],'O_i -E_i':[i-esperado for i in cantidad],'Chi_cuadrada':[((i-esperado)**2)/esperado for i in cantidad]}\ntabla_analisis\nAnalisis_ChiCuadrada=pd.DataFrame(tabla_analisis)\nAnalisis_ChiCuadrada",
      "metadata": {
        "trusted": true
      },
      "outputs": [
        {
          "execution_count": 8,
          "output_type": "execute_result",
          "data": {
            "text/plain": "   Frecuencia Observada O_i  Frecuencia Esperada E_i  O_i -E_i  Chi_cuadrada\n0                         9                      8.0       1.0         0.125\n1                         7                      8.0      -1.0         0.125\n2                         9                      8.0       1.0         0.125\n3                         7                      8.0      -1.0         0.125\n4                         8                      8.0       0.0         0.000",
            "text/html": "<div>\n<style scoped>\n    .dataframe tbody tr th:only-of-type {\n        vertical-align: middle;\n    }\n\n    .dataframe tbody tr th {\n        vertical-align: top;\n    }\n\n    .dataframe thead th {\n        text-align: right;\n    }\n</style>\n<table border=\"1\" class=\"dataframe\">\n  <thead>\n    <tr style=\"text-align: right;\">\n      <th></th>\n      <th>Frecuencia Observada O_i</th>\n      <th>Frecuencia Esperada E_i</th>\n      <th>O_i -E_i</th>\n      <th>Chi_cuadrada</th>\n    </tr>\n  </thead>\n  <tbody>\n    <tr>\n      <th>0</th>\n      <td>9</td>\n      <td>8.0</td>\n      <td>1.0</td>\n      <td>0.125</td>\n    </tr>\n    <tr>\n      <th>1</th>\n      <td>7</td>\n      <td>8.0</td>\n      <td>-1.0</td>\n      <td>0.125</td>\n    </tr>\n    <tr>\n      <th>2</th>\n      <td>9</td>\n      <td>8.0</td>\n      <td>1.0</td>\n      <td>0.125</td>\n    </tr>\n    <tr>\n      <th>3</th>\n      <td>7</td>\n      <td>8.0</td>\n      <td>-1.0</td>\n      <td>0.125</td>\n    </tr>\n    <tr>\n      <th>4</th>\n      <td>8</td>\n      <td>8.0</td>\n      <td>0.0</td>\n      <td>0.000</td>\n    </tr>\n  </tbody>\n</table>\n</div>"
          },
          "metadata": {}
        }
      ],
      "execution_count": 8
    },
    {
      "cell_type": "markdown",
      "source": "Creamos los intervalos en los que se metieron los elementos generados al inicio (n=40)\nAgregamos los intervalos como índice al data Frame",
      "metadata": {}
    },
    {
      "cell_type": "code",
      "source": "indice=[]\ndt=0\nwhile dt<1:\n  ent=str(dt)+'-'+str(round(dt+d,2))\n  indice.append(ent)\n  dt=round(dt+d,2)\nprint(indice)\nAnalisis_ChiCuadrada.index=indice\nAnalisis_ChiCuadrada\n",
      "metadata": {
        "trusted": true
      },
      "outputs": [
        {
          "name": "stdout",
          "text": "['0-0.2', '0.2-0.4', '0.4-0.6', '0.6-0.8', '0.8-1.0']\n",
          "output_type": "stream"
        },
        {
          "execution_count": 12,
          "output_type": "execute_result",
          "data": {
            "text/plain": "         Frecuencia Observada O_i  Frecuencia Esperada E_i  O_i -E_i  \\\n0-0.2                           9                      8.0       1.0   \n0.2-0.4                         7                      8.0      -1.0   \n0.4-0.6                         9                      8.0       1.0   \n0.6-0.8                         7                      8.0      -1.0   \n0.8-1.0                         8                      8.0       0.0   \n\n         Chi_cuadrada  \n0-0.2           0.125  \n0.2-0.4         0.125  \n0.4-0.6         0.125  \n0.6-0.8         0.125  \n0.8-1.0         0.000  ",
            "text/html": "<div>\n<style scoped>\n    .dataframe tbody tr th:only-of-type {\n        vertical-align: middle;\n    }\n\n    .dataframe tbody tr th {\n        vertical-align: top;\n    }\n\n    .dataframe thead th {\n        text-align: right;\n    }\n</style>\n<table border=\"1\" class=\"dataframe\">\n  <thead>\n    <tr style=\"text-align: right;\">\n      <th></th>\n      <th>Frecuencia Observada O_i</th>\n      <th>Frecuencia Esperada E_i</th>\n      <th>O_i -E_i</th>\n      <th>Chi_cuadrada</th>\n    </tr>\n  </thead>\n  <tbody>\n    <tr>\n      <th>0-0.2</th>\n      <td>9</td>\n      <td>8.0</td>\n      <td>1.0</td>\n      <td>0.125</td>\n    </tr>\n    <tr>\n      <th>0.2-0.4</th>\n      <td>7</td>\n      <td>8.0</td>\n      <td>-1.0</td>\n      <td>0.125</td>\n    </tr>\n    <tr>\n      <th>0.4-0.6</th>\n      <td>9</td>\n      <td>8.0</td>\n      <td>1.0</td>\n      <td>0.125</td>\n    </tr>\n    <tr>\n      <th>0.6-0.8</th>\n      <td>7</td>\n      <td>8.0</td>\n      <td>-1.0</td>\n      <td>0.125</td>\n    </tr>\n    <tr>\n      <th>0.8-1.0</th>\n      <td>8</td>\n      <td>8.0</td>\n      <td>0.0</td>\n      <td>0.000</td>\n    </tr>\n  </tbody>\n</table>\n</div>"
          },
          "metadata": {}
        }
      ],
      "execution_count": 12
    },
    {
      "cell_type": "markdown",
      "source": "Calculamos el valor de la Chi Cuadrada sumando la columna **Chi_cuadrada** del Data Frame ",
      "metadata": {}
    },
    {
      "cell_type": "code",
      "source": "Valor_ChiCuadrada=Analisis_ChiCuadrada['Chi_cuadrada'].sum()\nprint('El valor de la Chi Cuadrada es :',Valor_ChiCuadrada)",
      "metadata": {
        "trusted": true
      },
      "outputs": [
        {
          "name": "stdout",
          "text": "El valor de la Chi Cuadrada es : 0.5\n",
          "output_type": "stream"
        }
      ],
      "execution_count": 15
    },
    {
      "cell_type": "markdown",
      "source": "Formulación de la hipótesis nula y alternativa \nHo: No hay diferencia entre la distribución de la muestra y la distribución teórica\n\n**Si Chi_cuadrada > Valor Crítico entonces se rechaza la hipótesis Ho**\n\n**Si Chi_cuadrada <= Valor crítico entonces no se rechaza la hipótesis nula Ho**",
      "metadata": {}
    },
    {
      "cell_type": "code",
      "source": "from scipy.stats import chi2\ngl=intervalos-1\n#Encontramos el valor crítico de chi-cuadrado con un nivel de significancia de 0.05\nvalor_critico=chi2.ppf (1-0.05,gl )\nvalor_critico\nif Valor_ChiCuadrada<=valor_critico:\n    print(\"No se rechaza la hipótesis nula Ho \")\nelse:\n    print(\"Rechazar la hipótesis nula Ho \")\n",
      "metadata": {
        "trusted": true
      },
      "outputs": [
        {
          "name": "stdout",
          "text": "No se rechaza la hipótesis nula Ho \n",
          "output_type": "stream"
        }
      ],
      "execution_count": 27
    },
    {
      "cell_type": "code",
      "source": "",
      "metadata": {
        "trusted": true
      },
      "outputs": [],
      "execution_count": null
    }
  ]
}